{
 "cells": [
  {
   "cell_type": "code",
   "execution_count": 1,
   "metadata": {},
   "outputs": [],
   "source": [
    "%reload_ext autoreload\n",
    "%autoreload 2\n",
    "%matplotlib inline"
   ]
  },
  {
   "cell_type": "code",
   "execution_count": 2,
   "metadata": {},
   "outputs": [],
   "source": [
    "from fastai.vision import *\n",
    "import fastai\n",
    "import pydicom as dicom\n",
    "from pydicom.filereader import read_dicomdir\n",
    "from fast_dicom import *"
   ]
  },
  {
   "cell_type": "code",
   "execution_count": 3,
   "metadata": {},
   "outputs": [],
   "source": [
    "PATH = Path(\"/home/vhl_ai/Data/MRI/DICOMS\")\n",
    "study_paths = sorted([i for i in (PATH).ls() if '.csv' not in str(i) if '75mm' not in str(i)])\n",
    "csv_path = PATH / \"dcm_info.csv\""
   ]
  },
  {
   "cell_type": "code",
   "execution_count": 4,
   "metadata": {},
   "outputs": [],
   "source": [
    "class DcmGetterMRI():\n",
    "    def get_scan_files(self, study_path):\n",
    "        #Load in a MRI study\n",
    "        mri_scan_path = study_path / 'Raw'\n",
    "        return mri_scan_path.ls()\n",
    "    \n",
    "    def get_mask(self, study_path):\n",
    "        print(\"hello\")\n",
    "        mri_mask_path = study_path / 'Mask'\n",
    "        return mri_mask_path.ls()\n",
    "\n",
    "DcmProcessorMRI = create_dcm_class('DcmProcessorCIT', DcmGetterMRI, DcmProcessor)"
   ]
  },
  {
   "cell_type": "code",
   "execution_count": 5,
   "metadata": {},
   "outputs": [],
   "source": [
    "dcm_proc = DcmProcessorMRI(PATH, \"75mm\", new_spacing=[0.04,0.04,0.04], clip_low=-30000, clip_high=30000)"
   ]
  },
  {
   "cell_type": "code",
   "execution_count": 6,
   "metadata": {},
   "outputs": [
    {
     "data": {
      "text/html": [
       "<div>\n",
       "<style scoped>\n",
       "    .dataframe tbody tr th:only-of-type {\n",
       "        vertical-align: middle;\n",
       "    }\n",
       "\n",
       "    .dataframe tbody tr th {\n",
       "        vertical-align: top;\n",
       "    }\n",
       "\n",
       "    .dataframe thead th {\n",
       "        text-align: right;\n",
       "    }\n",
       "</style>\n",
       "<table border=\"1\" class=\"dataframe\">\n",
       "  <thead>\n",
       "    <tr style=\"text-align: right;\">\n",
       "      <th></th>\n",
       "      <th>scan_id</th>\n",
       "      <th>plane</th>\n",
       "      <th>index</th>\n",
       "      <th>z_depth</th>\n",
       "      <th>row_depth</th>\n",
       "      <th>col_depth</th>\n",
       "    </tr>\n",
       "  </thead>\n",
       "  <tbody>\n",
       "  </tbody>\n",
       "</table>\n",
       "</div>"
      ],
      "text/plain": [
       "Empty DataFrame\n",
       "Columns: [scan_id, plane, index, z_depth, row_depth, col_depth]\n",
       "Index: []"
      ]
     },
     "execution_count": 6,
     "metadata": {},
     "output_type": "execute_result"
    }
   ],
   "source": [
    "df = get_df(PATH)\n",
    "df"
   ]
  },
  {
   "cell_type": "code",
   "execution_count": 7,
   "metadata": {},
   "outputs": [],
   "source": [
    "def test_data_creation(dcm_proc, study_paths):\n",
    "    for study_path in study_paths:\n",
    "        dcm_proc.to_files(study_path)"
   ]
  },
  {
   "cell_type": "code",
   "execution_count": 8,
   "metadata": {},
   "outputs": [
    {
     "name": "stdout",
     "output_type": "stream",
     "text": [
      "Creating data for HH0059\n"
     ]
    },
    {
     "data": {
      "text/html": [
       "\n",
       "    <div>\n",
       "        <style>\n",
       "            /* Turns off some styling */\n",
       "            progress {\n",
       "                /* gets rid of default border in Firefox and Opera. */\n",
       "                border: none;\n",
       "                /* Needs to be in here for Safari polyfill so background images work as expected. */\n",
       "                background-size: auto;\n",
       "            }\n",
       "            .progress-bar-interrupted, .progress-bar-interrupted::-webkit-progress-bar {\n",
       "                background: #F44336;\n",
       "            }\n",
       "        </style>\n",
       "      <progress value='0' class='progress-bar-interrupted' max='1128', style='width:300px; height:20px; vertical-align: middle;'></progress>\n",
       "      Interrupted\n",
       "    </div>\n",
       "    "
      ],
      "text/plain": [
       "<IPython.core.display.HTML object>"
      ]
     },
     "metadata": {},
     "output_type": "display_data"
    },
    {
     "name": "stdout",
     "output_type": "stream",
     "text": [
      "[PosixPath('/home/vhl_ai/Data/MRI/DICOMS/HH0059/Mask/HH59_0103.dcm'), PosixPath('/home/vhl_ai/Data/MRI/DICOMS/HH0059/Mask/HH59_0064.dcm'), PosixPath('/home/vhl_ai/Data/MRI/DICOMS/HH0059/Mask/HH59_0056.dcm'), PosixPath('/home/vhl_ai/Data/MRI/DICOMS/HH0059/Mask/HH59_0091.dcm'), PosixPath('/home/vhl_ai/Data/MRI/DICOMS/HH0059/Mask/HH59_0090.dcm'), PosixPath('/home/vhl_ai/Data/MRI/DICOMS/HH0059/Mask/HH59_0000.dcm'), PosixPath('/home/vhl_ai/Data/MRI/DICOMS/HH0059/Mask/HH59_0058.dcm'), PosixPath('/home/vhl_ai/Data/MRI/DICOMS/HH0059/Mask/HH59_0038.dcm'), PosixPath('/home/vhl_ai/Data/MRI/DICOMS/HH0059/Mask/HH59_0076.dcm'), PosixPath('/home/vhl_ai/Data/MRI/DICOMS/HH0059/Mask/HH59_0067.dcm'), PosixPath('/home/vhl_ai/Data/MRI/DICOMS/HH0059/Mask/HH59_0024.dcm'), PosixPath('/home/vhl_ai/Data/MRI/DICOMS/HH0059/Mask/HH59_0047.dcm'), PosixPath('/home/vhl_ai/Data/MRI/DICOMS/HH0059/Mask/HH59_0087.dcm'), PosixPath('/home/vhl_ai/Data/MRI/DICOMS/HH0059/Mask/HH59_0089.dcm'), PosixPath('/home/vhl_ai/Data/MRI/DICOMS/HH0059/Mask/HH59_0040.dcm'), PosixPath('/home/vhl_ai/Data/MRI/DICOMS/HH0059/Mask/HH59_0029.dcm'), PosixPath('/home/vhl_ai/Data/MRI/DICOMS/HH0059/Mask/HH59_0050.dcm'), PosixPath('/home/vhl_ai/Data/MRI/DICOMS/HH0059/Mask/HH59_0013.dcm'), PosixPath('/home/vhl_ai/Data/MRI/DICOMS/HH0059/Mask/HH59_0005.dcm'), PosixPath('/home/vhl_ai/Data/MRI/DICOMS/HH0059/Mask/HH59_0070.dcm'), PosixPath('/home/vhl_ai/Data/MRI/DICOMS/HH0059/Mask/HH59_0045.dcm'), PosixPath('/home/vhl_ai/Data/MRI/DICOMS/HH0059/Mask/HH59_0085.dcm'), PosixPath('/home/vhl_ai/Data/MRI/DICOMS/HH0059/Mask/HH59_0073.dcm'), PosixPath('/home/vhl_ai/Data/MRI/DICOMS/HH0059/Mask/HH59_0017.dcm'), PosixPath('/home/vhl_ai/Data/MRI/DICOMS/HH0059/Mask/HH59_0059.dcm'), PosixPath('/home/vhl_ai/Data/MRI/DICOMS/HH0059/Mask/HH59_0042.dcm'), PosixPath('/home/vhl_ai/Data/MRI/DICOMS/HH0059/Mask/HH59_0051.dcm'), PosixPath('/home/vhl_ai/Data/MRI/DICOMS/HH0059/Mask/HH59_0063.dcm'), PosixPath('/home/vhl_ai/Data/MRI/DICOMS/HH0059/Mask/HH59_0078.dcm'), PosixPath('/home/vhl_ai/Data/MRI/DICOMS/HH0059/Mask/HH59_0048.dcm'), PosixPath('/home/vhl_ai/Data/MRI/DICOMS/HH0059/Mask/HH59_0088.dcm'), PosixPath('/home/vhl_ai/Data/MRI/DICOMS/HH0059/Mask/HH59_0007.dcm'), PosixPath('/home/vhl_ai/Data/MRI/DICOMS/HH0059/Mask/HH59_0062.dcm'), PosixPath('/home/vhl_ai/Data/MRI/DICOMS/HH0059/Mask/HH59_0100.dcm'), PosixPath('/home/vhl_ai/Data/MRI/DICOMS/HH0059/Mask/HH59_0061.dcm'), PosixPath('/home/vhl_ai/Data/MRI/DICOMS/HH0059/Mask/HH59_0082.dcm'), PosixPath('/home/vhl_ai/Data/MRI/DICOMS/HH0059/Mask/HH59_0036.dcm'), PosixPath('/home/vhl_ai/Data/MRI/DICOMS/HH0059/Mask/HH59_0052.dcm'), PosixPath('/home/vhl_ai/Data/MRI/DICOMS/HH0059/Mask/HH59_0041.dcm'), PosixPath('/home/vhl_ai/Data/MRI/DICOMS/HH0059/Mask/HH59_0066.dcm'), PosixPath('/home/vhl_ai/Data/MRI/DICOMS/HH0059/Mask/HH59_0046.dcm'), PosixPath('/home/vhl_ai/Data/MRI/DICOMS/HH0059/Mask/HH59_0071.dcm'), PosixPath('/home/vhl_ai/Data/MRI/DICOMS/HH0059/Mask/HH59_0054.dcm'), PosixPath('/home/vhl_ai/Data/MRI/DICOMS/HH0059/Mask/HH59_0043.dcm'), PosixPath('/home/vhl_ai/Data/MRI/DICOMS/HH0059/Mask/HH59_0055.dcm'), PosixPath('/home/vhl_ai/Data/MRI/DICOMS/HH0059/Mask/HH59_0097.dcm'), PosixPath('/home/vhl_ai/Data/MRI/DICOMS/HH0059/Mask/HH59_0044.dcm'), PosixPath('/home/vhl_ai/Data/MRI/DICOMS/HH0059/Mask/HH59_0034.dcm'), PosixPath('/home/vhl_ai/Data/MRI/DICOMS/HH0059/Mask/HH59_0020.dcm'), PosixPath('/home/vhl_ai/Data/MRI/DICOMS/HH0059/Mask/HH59_0093.dcm'), PosixPath('/home/vhl_ai/Data/MRI/DICOMS/HH0059/Mask/HH59_0022.dcm'), PosixPath('/home/vhl_ai/Data/MRI/DICOMS/HH0059/Mask/HH59_0096.dcm'), PosixPath('/home/vhl_ai/Data/MRI/DICOMS/HH0059/Mask/HH59_0011.dcm'), PosixPath('/home/vhl_ai/Data/MRI/DICOMS/HH0059/Mask/HH59_0008.dcm'), PosixPath('/home/vhl_ai/Data/MRI/DICOMS/HH0059/Mask/HH59_0037.dcm'), PosixPath('/home/vhl_ai/Data/MRI/DICOMS/HH0059/Mask/HH59_0006.dcm'), PosixPath('/home/vhl_ai/Data/MRI/DICOMS/HH0059/Mask/HH59_0021.dcm'), PosixPath('/home/vhl_ai/Data/MRI/DICOMS/HH0059/Mask/HH59_0086.dcm'), PosixPath('/home/vhl_ai/Data/MRI/DICOMS/HH0059/Mask/HH59_0098.dcm'), PosixPath('/home/vhl_ai/Data/MRI/DICOMS/HH0059/Mask/HH59_0057.dcm'), PosixPath('/home/vhl_ai/Data/MRI/DICOMS/HH0059/Mask/HH59_0080.dcm'), PosixPath('/home/vhl_ai/Data/MRI/DICOMS/HH0059/Mask/HH59_0053.dcm'), PosixPath('/home/vhl_ai/Data/MRI/DICOMS/HH0059/Mask/HH59_0019.dcm'), PosixPath('/home/vhl_ai/Data/MRI/DICOMS/HH0059/Mask/HH59_0027.dcm'), PosixPath('/home/vhl_ai/Data/MRI/DICOMS/HH0059/Mask/HH59_0074.dcm'), PosixPath('/home/vhl_ai/Data/MRI/DICOMS/HH0059/Mask/HH59_0092.dcm'), PosixPath('/home/vhl_ai/Data/MRI/DICOMS/HH0059/Mask/HH59_0072.dcm'), PosixPath('/home/vhl_ai/Data/MRI/DICOMS/HH0059/Mask/HH59_0035.dcm'), PosixPath('/home/vhl_ai/Data/MRI/DICOMS/HH0059/Mask/HH59_0102.dcm'), PosixPath('/home/vhl_ai/Data/MRI/DICOMS/HH0059/Mask/HH59_0016.dcm'), PosixPath('/home/vhl_ai/Data/MRI/DICOMS/HH0059/Mask/HH59_0039.dcm'), PosixPath('/home/vhl_ai/Data/MRI/DICOMS/HH0059/Mask/HH59_0025.dcm'), PosixPath('/home/vhl_ai/Data/MRI/DICOMS/HH0059/Mask/HH59_0069.dcm'), PosixPath('/home/vhl_ai/Data/MRI/DICOMS/HH0059/Mask/HH59_0031.dcm'), PosixPath('/home/vhl_ai/Data/MRI/DICOMS/HH0059/Mask/HH59_0099.dcm'), PosixPath('/home/vhl_ai/Data/MRI/DICOMS/HH0059/Mask/HH59_0003.dcm'), PosixPath('/home/vhl_ai/Data/MRI/DICOMS/HH0059/Mask/HH59_0049.dcm'), PosixPath('/home/vhl_ai/Data/MRI/DICOMS/HH0059/Mask/HH59_0065.dcm'), PosixPath('/home/vhl_ai/Data/MRI/DICOMS/HH0059/Mask/HH59_0077.dcm'), PosixPath('/home/vhl_ai/Data/MRI/DICOMS/HH0059/Mask/HH59_0002.dcm'), PosixPath('/home/vhl_ai/Data/MRI/DICOMS/HH0059/Mask/HH59_0084.dcm'), PosixPath('/home/vhl_ai/Data/MRI/DICOMS/HH0059/Mask/HH59_0001.dcm'), PosixPath('/home/vhl_ai/Data/MRI/DICOMS/HH0059/Mask/HH59_0075.dcm'), PosixPath('/home/vhl_ai/Data/MRI/DICOMS/HH0059/Mask/HH59_0083.dcm'), PosixPath('/home/vhl_ai/Data/MRI/DICOMS/HH0059/Mask/HH59_0014.dcm'), PosixPath('/home/vhl_ai/Data/MRI/DICOMS/HH0059/Mask/HH59_0068.dcm'), PosixPath('/home/vhl_ai/Data/MRI/DICOMS/HH0059/Mask/HH59_0028.dcm'), PosixPath('/home/vhl_ai/Data/MRI/DICOMS/HH0059/Mask/HH59_0009.dcm'), PosixPath('/home/vhl_ai/Data/MRI/DICOMS/HH0059/Mask/HH59_0015.dcm'), PosixPath('/home/vhl_ai/Data/MRI/DICOMS/HH0059/Mask/HH59_0101.dcm'), PosixPath('/home/vhl_ai/Data/MRI/DICOMS/HH0059/Mask/HH59_0095.dcm'), PosixPath('/home/vhl_ai/Data/MRI/DICOMS/HH0059/Mask/HH59_0079.dcm'), PosixPath('/home/vhl_ai/Data/MRI/DICOMS/HH0059/Mask/HH59_0018.dcm'), PosixPath('/home/vhl_ai/Data/MRI/DICOMS/HH0059/Mask/HH59_0010.dcm'), PosixPath('/home/vhl_ai/Data/MRI/DICOMS/HH0059/Mask/HH59_0081.dcm'), PosixPath('/home/vhl_ai/Data/MRI/DICOMS/HH0059/Mask/HH59_0012.dcm'), PosixPath('/home/vhl_ai/Data/MRI/DICOMS/HH0059/Mask/HH59_0032.dcm'), PosixPath('/home/vhl_ai/Data/MRI/DICOMS/HH0059/Mask/HH59_0004.dcm'), PosixPath('/home/vhl_ai/Data/MRI/DICOMS/HH0059/Mask/HH59_0026.dcm'), PosixPath('/home/vhl_ai/Data/MRI/DICOMS/HH0059/Mask/HH59_0094.dcm'), PosixPath('/home/vhl_ai/Data/MRI/DICOMS/HH0059/Mask/HH59_0033.dcm'), PosixPath('/home/vhl_ai/Data/MRI/DICOMS/HH0059/Mask/HH59_0030.dcm'), PosixPath('/home/vhl_ai/Data/MRI/DICOMS/HH0059/Mask/HH59_0060.dcm'), PosixPath('/home/vhl_ai/Data/MRI/DICOMS/HH0059/Mask/HH59_0023.dcm')]\n"
     ]
    },
    {
     "ename": "TypeError",
     "evalue": "'PosixPath' object is not subscriptable",
     "output_type": "error",
     "traceback": [
      "\u001b[0;31m---------------------------------------------------------------------------\u001b[0m",
      "\u001b[0;31mTypeError\u001b[0m                                 Traceback (most recent call last)",
      "\u001b[0;32m<ipython-input-8-3d9685f39aba>\u001b[0m in \u001b[0;36m<module>\u001b[0;34m\u001b[0m\n\u001b[0;32m----> 1\u001b[0;31m \u001b[0mtest_data_creation\u001b[0m\u001b[0;34m(\u001b[0m\u001b[0mdcm_proc\u001b[0m\u001b[0;34m,\u001b[0m \u001b[0mstudy_paths\u001b[0m\u001b[0;34m)\u001b[0m\u001b[0;34m\u001b[0m\u001b[0;34m\u001b[0m\u001b[0m\n\u001b[0m",
      "\u001b[0;32m<ipython-input-7-8de32154670e>\u001b[0m in \u001b[0;36mtest_data_creation\u001b[0;34m(dcm_proc, study_paths)\u001b[0m\n\u001b[1;32m      1\u001b[0m \u001b[0;32mdef\u001b[0m \u001b[0mtest_data_creation\u001b[0m\u001b[0;34m(\u001b[0m\u001b[0mdcm_proc\u001b[0m\u001b[0;34m,\u001b[0m \u001b[0mstudy_paths\u001b[0m\u001b[0;34m)\u001b[0m\u001b[0;34m:\u001b[0m\u001b[0;34m\u001b[0m\u001b[0;34m\u001b[0m\u001b[0m\n\u001b[1;32m      2\u001b[0m     \u001b[0;32mfor\u001b[0m \u001b[0mstudy_path\u001b[0m \u001b[0;32min\u001b[0m \u001b[0mstudy_paths\u001b[0m\u001b[0;34m:\u001b[0m\u001b[0;34m\u001b[0m\u001b[0;34m\u001b[0m\u001b[0m\n\u001b[0;32m----> 3\u001b[0;31m         \u001b[0mdcm_proc\u001b[0m\u001b[0;34m.\u001b[0m\u001b[0mto_files\u001b[0m\u001b[0;34m(\u001b[0m\u001b[0mstudy_path\u001b[0m\u001b[0;34m)\u001b[0m\u001b[0;34m\u001b[0m\u001b[0;34m\u001b[0m\u001b[0m\n\u001b[0m",
      "\u001b[0;32m~/Documents/Alex/MRI_Seg/fast_dicom.py\u001b[0m in \u001b[0;36mto_files\u001b[0;34m(self, study_path)\u001b[0m\n\u001b[1;32m    209\u001b[0m         \u001b[0;32mfor\u001b[0m \u001b[0mslice_num\u001b[0m\u001b[0;34m,\u001b[0m \u001b[0mplane\u001b[0m \u001b[0;32min\u001b[0m \u001b[0mprogress_bar\u001b[0m\u001b[0;34m(\u001b[0m\u001b[0mzipped\u001b[0m\u001b[0;34m(\u001b[0m\u001b[0mslice_nums\u001b[0m\u001b[0;34m,\u001b[0m \u001b[0mplanes\u001b[0m\u001b[0;34m)\u001b[0m\u001b[0;34m)\u001b[0m\u001b[0;34m:\u001b[0m\u001b[0;34m\u001b[0m\u001b[0;34m\u001b[0m\u001b[0m\n\u001b[1;32m    210\u001b[0m             \u001b[0mfn\u001b[0m \u001b[0;34m=\u001b[0m \u001b[0mnew_fn\u001b[0m\u001b[0;34m(\u001b[0m\u001b[0mslice_num\u001b[0m\u001b[0;34m,\u001b[0m \u001b[0mplane\u001b[0m\u001b[0;34m)\u001b[0m\u001b[0;34m\u001b[0m\u001b[0;34m\u001b[0m\u001b[0m\n\u001b[0;32m--> 211\u001b[0;31m             \u001b[0msave_func\u001b[0m\u001b[0;34m(\u001b[0m\u001b[0mfn\u001b[0m\u001b[0;34m,\u001b[0m \u001b[0mslice_num\u001b[0m\u001b[0;34m,\u001b[0m \u001b[0mplane\u001b[0m\u001b[0;34m)\u001b[0m\u001b[0;34m\u001b[0m\u001b[0;34m\u001b[0m\u001b[0m\n\u001b[0m\u001b[1;32m    212\u001b[0m \u001b[0;34m\u001b[0m\u001b[0m\n\u001b[1;32m    213\u001b[0m \u001b[0;34m\u001b[0m\u001b[0m\n",
      "\u001b[0;32m~/Documents/Alex/MRI_Seg/fast_dicom.py\u001b[0m in \u001b[0;36m<lambda>\u001b[0;34m(fn, slice_num, plane)\u001b[0m\n\u001b[1;32m    200\u001b[0m \u001b[0;34m\u001b[0m\u001b[0m\n\u001b[1;32m    201\u001b[0m         \u001b[0mnew_fn\u001b[0m \u001b[0;34m=\u001b[0m \u001b[0;32mlambda\u001b[0m \u001b[0mslice_num\u001b[0m\u001b[0;34m,\u001b[0m \u001b[0mplane\u001b[0m\u001b[0;34m:\u001b[0m \u001b[0;34mf'{study_path.stem}_{plane}_{slice_num}.png'\u001b[0m\u001b[0;34m\u001b[0m\u001b[0;34m\u001b[0m\u001b[0m\n\u001b[0;32m--> 202\u001b[0;31m         \u001b[0msave_func\u001b[0m \u001b[0;34m=\u001b[0m \u001b[0;32mlambda\u001b[0m \u001b[0mfn\u001b[0m\u001b[0;34m,\u001b[0m \u001b[0mslice_num\u001b[0m\u001b[0;34m,\u001b[0m \u001b[0mplane\u001b[0m\u001b[0;34m:\u001b[0m \u001b[0mself\u001b[0m\u001b[0;34m.\u001b[0m\u001b[0msave_pair\u001b[0m\u001b[0;34m(\u001b[0m\u001b[0mfn\u001b[0m\u001b[0;34m,\u001b[0m \u001b[0mscan\u001b[0m\u001b[0;34m,\u001b[0m \u001b[0mmask\u001b[0m\u001b[0;34m,\u001b[0m \u001b[0mslice_num\u001b[0m\u001b[0;34m,\u001b[0m \u001b[0mplane\u001b[0m\u001b[0;34m,\u001b[0m \u001b[0mpx_spacing\u001b[0m\u001b[0;34m)\u001b[0m\u001b[0;34m\u001b[0m\u001b[0;34m\u001b[0m\u001b[0m\n\u001b[0m\u001b[1;32m    203\u001b[0m \u001b[0;34m\u001b[0m\u001b[0m\n\u001b[1;32m    204\u001b[0m         \u001b[0mdf_rows\u001b[0m \u001b[0;34m=\u001b[0m \u001b[0;34m[\u001b[0m\u001b[0;34m[\u001b[0m\u001b[0mnew_fn\u001b[0m\u001b[0;34m(\u001b[0m\u001b[0mslice_num\u001b[0m\u001b[0;34m,\u001b[0m \u001b[0mplane\u001b[0m\u001b[0;34m)\u001b[0m\u001b[0;34m,\u001b[0m \u001b[0mplane\u001b[0m\u001b[0;34m,\u001b[0m \u001b[0mslice_num\u001b[0m\u001b[0;34m]\u001b[0m \u001b[0;34m+\u001b[0m \u001b[0mlist\u001b[0m\u001b[0;34m(\u001b[0m\u001b[0mself\u001b[0m\u001b[0;34m.\u001b[0m\u001b[0mnew_spacing\u001b[0m\u001b[0;34m)\u001b[0m \u001b[0;32mfor\u001b[0m \u001b[0mslice_num\u001b[0m\u001b[0;34m,\u001b[0m \u001b[0mplane\u001b[0m \u001b[0;32min\u001b[0m \u001b[0mzip\u001b[0m\u001b[0;34m(\u001b[0m\u001b[0mslice_nums\u001b[0m\u001b[0;34m,\u001b[0m \u001b[0mplanes\u001b[0m\u001b[0;34m)\u001b[0m\u001b[0;34m]\u001b[0m\u001b[0;34m\u001b[0m\u001b[0;34m\u001b[0m\u001b[0m\n",
      "\u001b[0;32m~/Documents/Alex/MRI_Seg/fast_dicom.py\u001b[0m in \u001b[0;36msave_pair\u001b[0;34m(self, fn, scan, mask, ind, plane, px_spacing)\u001b[0m\n\u001b[1;32m    178\u001b[0m         \u001b[0mimage\u001b[0m \u001b[0;34m=\u001b[0m \u001b[0mImageDICOM\u001b[0m\u001b[0;34m.\u001b[0m\u001b[0mfrom_np\u001b[0m\u001b[0;34m(\u001b[0m\u001b[0mscan\u001b[0m\u001b[0;34m,\u001b[0m \u001b[0mind\u001b[0m\u001b[0;34m,\u001b[0m \u001b[0mplane\u001b[0m\u001b[0;34m,\u001b[0m \u001b[0mpx_spacing\u001b[0m\u001b[0;34m,\u001b[0m \u001b[0mclip_low\u001b[0m\u001b[0;34m=\u001b[0m\u001b[0mself\u001b[0m\u001b[0;34m.\u001b[0m\u001b[0mclip_low\u001b[0m\u001b[0;34m,\u001b[0m \u001b[0mclip_high\u001b[0m\u001b[0;34m=\u001b[0m\u001b[0mself\u001b[0m\u001b[0;34m.\u001b[0m\u001b[0mclip_high\u001b[0m\u001b[0;34m)\u001b[0m\u001b[0;34m\u001b[0m\u001b[0;34m\u001b[0m\u001b[0m\n\u001b[1;32m    179\u001b[0m         \u001b[0mprint\u001b[0m\u001b[0;34m(\u001b[0m\u001b[0mmask\u001b[0m\u001b[0;34m)\u001b[0m\u001b[0;34m\u001b[0m\u001b[0;34m\u001b[0m\u001b[0m\n\u001b[0;32m--> 180\u001b[0;31m         \u001b[0mmask\u001b[0m \u001b[0;34m=\u001b[0m \u001b[0mImageDICOM\u001b[0m\u001b[0;34m.\u001b[0m\u001b[0mfrom_np\u001b[0m\u001b[0;34m(\u001b[0m\u001b[0mmask\u001b[0m\u001b[0;34m,\u001b[0m \u001b[0mind\u001b[0m\u001b[0;34m,\u001b[0m \u001b[0mplane\u001b[0m\u001b[0;34m,\u001b[0m \u001b[0mpx_spacing\u001b[0m\u001b[0;34m)\u001b[0m\u001b[0;34m\u001b[0m\u001b[0;34m\u001b[0m\u001b[0m\n\u001b[0m\u001b[1;32m    181\u001b[0m         \u001b[0;32mif\u001b[0m \u001b[0mself\u001b[0m\u001b[0;34m.\u001b[0m\u001b[0mnew_spacing\u001b[0m \u001b[0;32mis\u001b[0m \u001b[0;32mnot\u001b[0m \u001b[0;32mNone\u001b[0m\u001b[0;34m:\u001b[0m\u001b[0;34m\u001b[0m\u001b[0;34m\u001b[0m\u001b[0m\n\u001b[1;32m    182\u001b[0m             \u001b[0mimage\u001b[0m\u001b[0;34m.\u001b[0m\u001b[0mresize_px_spacing\u001b[0m\u001b[0;34m(\u001b[0m\u001b[0mself\u001b[0m\u001b[0;34m.\u001b[0m\u001b[0mnew_spacing\u001b[0m\u001b[0;34m)\u001b[0m\u001b[0;34m\u001b[0m\u001b[0;34m\u001b[0m\u001b[0m\n",
      "\u001b[0;32m~/Documents/Alex/MRI_Seg/fast_dicom.py\u001b[0m in \u001b[0;36mfrom_np\u001b[0;34m(cls, arr, ind, dim, px_spacing, clip_low, clip_high)\u001b[0m\n\u001b[1;32m     62\u001b[0m     \u001b[0;32mdef\u001b[0m \u001b[0mfrom_np\u001b[0m\u001b[0;34m(\u001b[0m\u001b[0mcls\u001b[0m\u001b[0;34m,\u001b[0m \u001b[0marr\u001b[0m\u001b[0;34m:\u001b[0m\u001b[0mnp\u001b[0m\u001b[0;34m.\u001b[0m\u001b[0marray\u001b[0m\u001b[0;34m,\u001b[0m \u001b[0mind\u001b[0m\u001b[0;34m,\u001b[0m \u001b[0mdim\u001b[0m\u001b[0;34m,\u001b[0m \u001b[0mpx_spacing\u001b[0m\u001b[0;34m,\u001b[0m \u001b[0mclip_low\u001b[0m\u001b[0;34m=\u001b[0m\u001b[0;34m-\u001b[0m\u001b[0;36m700\u001b[0m\u001b[0;34m,\u001b[0m \u001b[0mclip_high\u001b[0m\u001b[0;34m=\u001b[0m\u001b[0;36m300\u001b[0m\u001b[0;34m)\u001b[0m\u001b[0;34m:\u001b[0m\u001b[0;34m\u001b[0m\u001b[0;34m\u001b[0m\u001b[0m\n\u001b[1;32m     63\u001b[0m         \u001b[0mplane\u001b[0m \u001b[0;34m=\u001b[0m \u001b[0;34m[\u001b[0m\u001b[0;34m'axial'\u001b[0m\u001b[0;34m,\u001b[0m \u001b[0;34m'coronal'\u001b[0m\u001b[0;34m,\u001b[0m \u001b[0;34m'saggital'\u001b[0m\u001b[0;34m]\u001b[0m\u001b[0;34m[\u001b[0m\u001b[0mdim\u001b[0m\u001b[0;34m]\u001b[0m\u001b[0;34m\u001b[0m\u001b[0;34m\u001b[0m\u001b[0m\n\u001b[0;32m---> 64\u001b[0;31m         \u001b[0marr_slice\u001b[0m \u001b[0;34m=\u001b[0m \u001b[0mnp\u001b[0m\u001b[0;34m.\u001b[0m\u001b[0mtake\u001b[0m\u001b[0;34m(\u001b[0m\u001b[0marr\u001b[0m\u001b[0;34m,\u001b[0m \u001b[0mind\u001b[0m\u001b[0;34m,\u001b[0m \u001b[0mdim\u001b[0m\u001b[0;34m)\u001b[0m\u001b[0;34m[\u001b[0m\u001b[0;32mNone\u001b[0m\u001b[0;34m,\u001b[0m\u001b[0;34m...\u001b[0m\u001b[0;34m]\u001b[0m\u001b[0;34m\u001b[0m\u001b[0;34m\u001b[0m\u001b[0m\n\u001b[0m\u001b[1;32m     65\u001b[0m         \u001b[0marr_slice\u001b[0m \u001b[0;34m=\u001b[0m \u001b[0mnp\u001b[0m\u001b[0;34m.\u001b[0m\u001b[0mclip\u001b[0m\u001b[0;34m(\u001b[0m\u001b[0marr_slice\u001b[0m\u001b[0;34m,\u001b[0m \u001b[0mclip_low\u001b[0m\u001b[0;34m,\u001b[0m \u001b[0mclip_high\u001b[0m\u001b[0;34m)\u001b[0m\u001b[0;34m\u001b[0m\u001b[0;34m\u001b[0m\u001b[0m\n\u001b[1;32m     66\u001b[0m         \u001b[0marr_slice\u001b[0m\u001b[0;34m[\u001b[0m\u001b[0;36m0\u001b[0m\u001b[0;34m,\u001b[0m\u001b[0;36m0\u001b[0m\u001b[0;34m]\u001b[0m \u001b[0;34m=\u001b[0m \u001b[0mclip_low\u001b[0m\u001b[0;34m\u001b[0m\u001b[0;34m\u001b[0m\u001b[0m\n",
      "\u001b[0;31mTypeError\u001b[0m: 'PosixPath' object is not subscriptable"
     ]
    }
   ],
   "source": [
    "test_data_creation(dcm_proc, study_paths)"
   ]
  },
  {
   "cell_type": "code",
   "execution_count": null,
   "metadata": {},
   "outputs": [],
   "source": []
  }
 ],
 "metadata": {
  "kernelspec": {
   "display_name": "Python 3",
   "language": "python",
   "name": "python3"
  },
  "language_info": {
   "codemirror_mode": {
    "name": "ipython",
    "version": 3
   },
   "file_extension": ".py",
   "mimetype": "text/x-python",
   "name": "python",
   "nbconvert_exporter": "python",
   "pygments_lexer": "ipython3",
   "version": "3.7.4"
  }
 },
 "nbformat": 4,
 "nbformat_minor": 2
}
